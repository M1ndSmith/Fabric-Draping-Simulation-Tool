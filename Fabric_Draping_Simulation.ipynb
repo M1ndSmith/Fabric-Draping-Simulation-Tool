{
 "cells": [
  {
   "cell_type": "code",
   "execution_count": null,
   "metadata": {},
   "outputs": [
    {
     "data": {
      "application/vnd.jupyter.widget-view+json": {
       "model_id": "e22dc7b73a8e45fc8e800c5de5d2c238",
       "version_major": 2,
       "version_minor": 0
      },
      "text/plain": [
       "interactive(children=(FloatSlider(value=30.0, description='Punch speed (m/s):', min=0.1, step=5.0), Dropdown(d…"
      ]
     },
     "metadata": {},
     "output_type": "display_data"
    },
    {
     "data": {
      "text/plain": [
       "<function __main__.simulate_draping(punch_speed=30.0, mesh_size=50, shear_modulus=78000.0, tensile_modulus=35000000000.0, friction_punch=0.2, friction_die=0.5, holder_force=22870.0)>"
      ]
     },
     "execution_count": 15,
     "metadata": {},
     "output_type": "execute_result"
    }
   ],
   "source": [
    "import numpy as np\n",
    "import matplotlib.pyplot as plt\n",
    "from ipywidgets import interact, FloatSlider, IntSlider, Dropdown\n",
    "\n",
    "# Constants\n",
    "FABRIC_THICKNESS = 0.64e-3  # 0.64 mm in meters\n",
    "HEMISPHERE_RADIUS = 0.0986  # 98.6 mm in meters\n",
    "\n",
    "def simulate_draping(punch_speed=30.0, mesh_size=50, \n",
    "                     shear_modulus=7.8e4, tensile_modulus=3.5e10,\n",
    "                     friction_punch=0.2, friction_die=0.5, holder_force=22.87e3):\n",
    "    \"\"\"\n",
    "    Simplified FEM simulation of fabric draping over a hemispherical mold.\n",
    "    Args:\n",
    "        punch_speed (float): Punch speed (m/s).\n",
    "        mesh_size (int): Number of elements along one edge (e.g., 50x50).\n",
    "        shear_modulus (float): In-plane shear modulus G12 (Pa).\n",
    "        tensile_modulus (float): Tensile modulus E11=E22 (Pa).\n",
    "        friction_punch (float): Friction coefficient (punch/fabric).\n",
    "        friction_die (float): Friction coefficient (die/fabric).\n",
    "        holder_force (float): Force on holder (N).\n",
    "    \"\"\"\n",
    "    # --- Preprocessing ---\n",
    "    print(f\"Running simulation with:\\n\"\n",
    "          f\"- Punch speed: {punch_speed} m/s\\n\"\n",
    "          f\"- Mesh: {mesh_size}x{mesh_size}\\n\"\n",
    "          f\"- Shear modulus (G12): {shear_modulus:.1e} Pa\\n\"\n",
    "          f\"- Tensile modulus (E11): {tensile_modulus:.1e} Pa\\n\"\n",
    "          f\"- Friction (punch/fabric): {friction_punch}\\n\"\n",
    "          f\"- Friction (die/fabric): {friction_die}\\n\"\n",
    "          f\"- Holder force: {holder_force/1e3:.2f} kN\\n\")\n",
    "\n",
    "    # --- Simplified FEM Calculation ---\n",
    "    # (Note: This is a conceptual placeholder. Real FEM would use ABAQUS/Explicit.)\n",
    "    L = np.linspace(0, 2 * HEMISPHERE_RADIUS, mesh_size)\n",
    "    S = np.pi * HEMISPHERE_RADIUS / 2  # Quarter arc length\n",
    "    normalized_L = L / S\n",
    "\n",
    "    # Shear angle approximation (empirical relation from paper)\n",
    "    shear_angle = 45 * (1 - np.exp(-5 * normalized_L)) * (1 + 0.1 * np.random.randn(mesh_size))\n",
    "    max_shear = np.max(shear_angle)\n",
    "\n",
    "    # --- Plot Results ---\n",
    "    plt.figure(figsize=(12, 5))\n",
    "    \n",
    "    # Plot 1: Shear angle distribution\n",
    "    plt.subplot(1, 2, 1)\n",
    "    plt.plot(normalized_L, shear_angle, 'b-', linewidth=2)\n",
    "    plt.axvline(x=1, color='r', linestyle='--', label='Hemisphere edge (L/S=1)')\n",
    "    plt.xlabel(\"Normalized distance (L/S)\")\n",
    "    plt.ylabel(\"Shear angle (degrees)\")\n",
    "    plt.title(f\"Shear Angle Distribution\\nMax shear: {max_shear:.1f}°\")\n",
    "    plt.grid(True)\n",
    "    plt.legend()\n",
    "\n",
    "    # Plot 2: Deformed fabric (conceptual)\n",
    "    plt.subplot(1, 2, 2)\n",
    "    X, Y = np.meshgrid(np.linspace(-0.2, 0.2, mesh_size), np.linspace(-0.2, 0.2, mesh_size))\n",
    "    Z = np.sqrt(np.maximum(HEMISPHERE_RADIUS**2 - X**2 - Y**2, 0))  # Hemisphere\n",
    "    Z[X**2 + Y**2 > HEMISPHERE_RADIUS**2] = 0  # Flat rim\n",
    "    plt.contourf(X, Y, Z, levels=20, cmap='viridis')\n",
    "    plt.colorbar(label='Height (m)')\n",
    "    plt.title(\"Deformed Fabric Shape\")\n",
    "    plt.xlabel(\"X (m)\")\n",
    "    plt.ylabel(\"Y (m)\")\n",
    "    \n",
    "    plt.tight_layout()\n",
    "    plt.show()\n",
    "\n",
    "# --- Interactive Widget ---\n",
    "interact(\n",
    "    simulate_draping,\n",
    "    punch_speed=FloatSlider(min=0.1, max=100, step=5, value=30, description=\"Punch speed (m/s):\"),\n",
    "    mesh_size=Dropdown(options=[10, 30, 50, 70, 100], value=50, description=\"Mesh size:\"),\n",
    "    shear_modulus=FloatSlider(min=7.8e2, max=7.8e7, step=7.8e4, value=7.8e4, \n",
    "                             description=\"Shear modulus G12 (Pa):\", readout_format='.1e'),\n",
    "    tensile_modulus=FloatSlider(min=7e6, max=3.5e10, step=1e9, value=3.5e10,\n",
    "                               description=\"Tensile modulus E11 (Pa):\", readout_format='.1e'),\n",
    "    friction_punch=FloatSlider(min=0, max=1, step=0.05, value=0.2, \n",
    "                              description=\"Friction (punch/fabric):\"),\n",
    "    friction_die=FloatSlider(min=0, max=1, step=0.05, value=0.5, \n",
    "                            description=\"Friction (die/fabric):\"),\n",
    "    holder_force=FloatSlider(min=22, max=230e3, step=1000, value=22.87e3,\n",
    "                            description=\"Holder force (N):\")\n",
    ")"
   ]
  }
 ],
 "metadata": {
  "kernelspec": {
   "display_name": "base",
   "language": "python",
   "name": "python3"
  },
  "language_info": {
   "codemirror_mode": {
    "name": "ipython",
    "version": 3
   },
   "file_extension": ".py",
   "mimetype": "text/x-python",
   "name": "python",
   "nbconvert_exporter": "python",
   "pygments_lexer": "ipython3",
   "version": "3.12.3"
  }
 },
 "nbformat": 4,
 "nbformat_minor": 2
}
